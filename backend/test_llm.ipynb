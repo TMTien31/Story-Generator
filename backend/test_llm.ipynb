{
 "cells": [
  {
   "cell_type": "code",
   "execution_count": 14,
   "id": "1a710ab0",
   "metadata": {},
   "outputs": [],
   "source": [
    "from sqlalchemy.orm import Session\n",
    "from core.config import settings\n",
    "\n",
    "from langchain_google_genai import ChatGoogleGenerativeAI\n",
    "from langchain_core.prompts import ChatPromptTemplate\n",
    "from langchain_core.output_parsers import PydanticOutputParser\n",
    "\n",
    "from core.prompts import STORY_PROMPT\n",
    "from models.story import Story, StoryNode\n",
    "from core.models import StoryLLMResponse, StoryNodeLLM\n"
   ]
  },
  {
   "cell_type": "code",
   "execution_count": 15,
   "id": "1364fac9",
   "metadata": {},
   "outputs": [],
   "source": [
    "# Tạo LLM\n",
    "llm = ChatGoogleGenerativeAI(\n",
    "    model=\"gemini-2.0-flash-lite\",\n",
    "    api_key=settings.GEMINI_API_KEY\n",
    ")\n",
    "\n",
    "# Pydantic parser cho schema StoryLLMResponse\n",
    "story_parser = PydanticOutputParser(pydantic_object=StoryLLMResponse)\n"
   ]
  },
  {
   "cell_type": "code",
   "execution_count": 16,
   "id": "2c7f9fea",
   "metadata": {},
   "outputs": [],
   "source": [
    "prompt = ChatPromptTemplate.from_messages([\n",
    "    (\n",
    "        \"system\",\n",
    "        STORY_PROMPT\n",
    "    ),\n",
    "    (\n",
    "        \"human\",\n",
    "        \"Create the story with this theme: {theme}\"\n",
    "    )\n",
    "]).partial(format_instructions=story_parser.get_format_instructions())"
   ]
  },
  {
   "cell_type": "code",
   "execution_count": 17,
   "id": "7c686401",
   "metadata": {},
   "outputs": [
    {
     "data": {
      "text/plain": [
       "ChatPromptValue(messages=[SystemMessage(content='\\n                You are a creative story writer that creates engaging choose-your-own-adventure stories.\\n                Generate a complete branching story with multiple paths and endings in the JSON format I\\'ll specify.\\n\\n                The story should have:\\n                1. A compelling title\\n                2. A starting situation (root node) with 2-3 options\\n                3. Each option should lead to another node with its own options\\n                4. Some paths should lead to endings (both winning and losing)\\n                5. At least one path should lead to a winning ending\\n\\n                Story structure requirements:\\n                - Each node should have 2-3 options except for ending nodes\\n                - The story should be 3-4 levels deep (including root node)\\n                - Add variety in the path lengths (some end earlier, some later)\\n                - Make sure there\\'s at least one winning path\\n\\n                Output your story in this exact JSON structure:\\n                The output should be formatted as a JSON instance that conforms to the JSON schema below.\\n\\nAs an example, for the schema {\"properties\": {\"foo\": {\"title\": \"Foo\", \"description\": \"a list of strings\", \"type\": \"array\", \"items\": {\"type\": \"string\"}}}, \"required\": [\"foo\"]}\\nthe object {\"foo\": [\"bar\", \"baz\"]} is a well-formatted instance of the schema. The object {\"properties\": {\"foo\": [\"bar\", \"baz\"]}} is not well-formatted.\\n\\nHere is the output schema:\\n```\\n{\"$defs\": {\"StoryNodeLLM\": {\"properties\": {\"content\": {\"description\": \"The content of the story node\", \"title\": \"Content\", \"type\": \"string\"}, \"isEnding\": {\"description\": \"Whether this node is an ending\", \"title\": \"Isending\", \"type\": \"boolean\"}, \"isWinningEnding\": {\"description\": \"Whether this ending is a winning ending\", \"title\": \"Iswinningending\", \"type\": \"boolean\"}, \"options\": {\"anyOf\": [{\"items\": {\"$ref\": \"#/$defs/StoryOptionLLM\"}, \"type\": \"array\"}, {\"type\": \"null\"}], \"default\": null, \"description\": \"The options available at this node\", \"title\": \"Options\"}}, \"required\": [\"content\", \"isEnding\", \"isWinningEnding\"], \"title\": \"StoryNodeLLM\", \"type\": \"object\"}, \"StoryOptionLLM\": {\"properties\": {\"text\": {\"description\": \"The text of the option presented to the user\", \"title\": \"Text\", \"type\": \"string\"}, \"nextNode\": {\"additionalProperties\": true, \"description\": \"The next node in the story\", \"title\": \"Nextnode\", \"type\": \"object\"}}, \"required\": [\"text\", \"nextNode\"], \"title\": \"StoryOptionLLM\", \"type\": \"object\"}}, \"properties\": {\"title\": {\"description\": \"The title of the story\", \"title\": \"Title\", \"type\": \"string\"}, \"rootNode\": {\"$ref\": \"#/$defs/StoryNodeLLM\", \"description\": \"The root node of the story\"}}, \"required\": [\"title\", \"rootNode\"]}\\n```\\n\\n                Don\\'t simplify or omit any part of the story structure. \\n                Don\\'t add any text outside of the JSON structure.\\n                ', additional_kwargs={}, response_metadata={}), HumanMessage(content=\"Create the story with this theme: A hero's journey to save a village from a dragon\", additional_kwargs={}, response_metadata={})])"
      ]
     },
     "execution_count": 17,
     "metadata": {},
     "output_type": "execute_result"
    }
   ],
   "source": [
    "prompt.format_prompt(theme=\"A hero's journey to save a village from a dragon\")"
   ]
  },
  {
   "cell_type": "code",
   "execution_count": 51,
   "id": "12d0abfa",
   "metadata": {},
   "outputs": [
    {
     "data": {
      "text/plain": [
       "'```json\\n{\"title\": \"The Sunken City\\'s Secret\", \"rootNode\": {\"content\": \"You are a renowned adventurer, known for your bravery and cunning. You\\'ve received a cryptic map leading to the Sunken City of Eldoria, rumored to hold a powerful artifact. You stand at the shore, ready to begin your quest. The salty air stings your face, and the waves crash gently against the sand. What do you do?\", \"isEnding\": false, \"isWinningEnding\": false, \"options\": [{\"text\": \"Follow the map and dive into the ocean to find the city.\", \"nextNode\": {\"content\": \"You descend into the depths, the sunlight fading as you go. The map leads you to a hidden entrance. Inside, you find a chamber guarded by ancient automatons. They begin to attack. Do you...\", \"isEnding\": false, \"isWinningEnding\": false, \"options\": [{\"text\": \"Fight the automatons.\", \"nextNode\": {\"content\": \"You engage in a fierce battle, your sword clashing against their metal bodies. After a grueling fight, you manage to disable them. You proceed deeper, finding the artifact - a glowing orb. You have won!\", \"isEnding\": true, \"isWinningEnding\": true}}, {\"text\": \"Try to sneak past the automatons.\", \"nextNode\": {\"content\": \"You attempt to bypass the automatons, using the shadows and your agility. You succeed in getting past them, but trigger a trap. Poison gas fills the chamber, and you succumb to its effects.\", \"isEnding\": true, \"isWinningEnding\": false}}]}}, {\"text\": \"Seek out a local fisherman for advice.\", \"nextNode\": {\"content\": \"You approach an old fisherman, known for his knowledge of the sea. He warns you of treacherous currents and mythical creatures guarding the city. He offers to guide you. Do you...\", \"isEnding\": false, \"isWinningEnding\": false, \"options\": [{\"text\": \"Accept his help and set sail with him.\", \"nextNode\": {\"content\": \"The fisherman guides you through the treacherous waters. You encounter a giant kraken that attacks your ship. You and the fisherman fight it off with a harpoon and a sword. Eventually, you reach the city and find the artifact. \", \"isEnding\": true, \"isWinningEnding\": true}}, {\"text\": \"Refuse his help and go alone.\", \"nextNode\": {\"content\": \"You set out on your own, ignoring the fisherman\\'s warnings. You encounter the currents and get lost, running out of supplies and eventually succumbing to the elements.\", \"isEnding\": true, \"isWinningEnding\": false}}]}}, {\"text\": \"Study the map more carefully and look for any hidden clues.\", \"nextNode\": {\"content\": \"You examine the map more closely, discovering a hidden inscription. It reveals a secret passage that bypasses the main entrance. Do you...\", \"isEnding\": false, \"isWinningEnding\": false, \"options\": [{\"text\": \"Use the secret passage.\", \"nextNode\": {\"content\": \"You find the passage and use it to enter the city. You bypass the traps and reach the artifact. You have won!\", \"isEnding\": true, \"isWinningEnding\": true}}, {\"text\": \"Ignore the passage and try the main entrance.\", \"nextNode\": {\"content\": \"You ignore the secret passage and try the main entrance, triggering a complex series of traps. You get trapped and are unable to get out.\", \"isEnding\": true, \"isWinningEnding\": false}}]}]}}\\n```'"
      ]
     },
     "execution_count": 51,
     "metadata": {},
     "output_type": "execute_result"
    }
   ],
   "source": [
    "raw_response = llm.invoke(prompt.invoke({\"theme\": \"Hero aventures\"}))\n",
    "raw_response.content"
   ]
  },
  {
   "cell_type": "code",
   "execution_count": 52,
   "id": "555ea127",
   "metadata": {},
   "outputs": [
    {
     "data": {
      "text/plain": [
       "AIMessage(content='```json\\n{\"title\": \"The Sunken City\\'s Secret\", \"rootNode\": {\"content\": \"You are a renowned adventurer, known for your bravery and cunning. You\\'ve received a cryptic map leading to the Sunken City of Eldoria, rumored to hold a powerful artifact. You stand at the shore, ready to begin your quest. The salty air stings your face, and the waves crash gently against the sand. What do you do?\", \"isEnding\": false, \"isWinningEnding\": false, \"options\": [{\"text\": \"Follow the map and dive into the ocean to find the city.\", \"nextNode\": {\"content\": \"You descend into the depths, the sunlight fading as you go. The map leads you to a hidden entrance. Inside, you find a chamber guarded by ancient automatons. They begin to attack. Do you...\", \"isEnding\": false, \"isWinningEnding\": false, \"options\": [{\"text\": \"Fight the automatons.\", \"nextNode\": {\"content\": \"You engage in a fierce battle, your sword clashing against their metal bodies. After a grueling fight, you manage to disable them. You proceed deeper, finding the artifact - a glowing orb. You have won!\", \"isEnding\": true, \"isWinningEnding\": true}}, {\"text\": \"Try to sneak past the automatons.\", \"nextNode\": {\"content\": \"You attempt to bypass the automatons, using the shadows and your agility. You succeed in getting past them, but trigger a trap. Poison gas fills the chamber, and you succumb to its effects.\", \"isEnding\": true, \"isWinningEnding\": false}}]}}, {\"text\": \"Seek out a local fisherman for advice.\", \"nextNode\": {\"content\": \"You approach an old fisherman, known for his knowledge of the sea. He warns you of treacherous currents and mythical creatures guarding the city. He offers to guide you. Do you...\", \"isEnding\": false, \"isWinningEnding\": false, \"options\": [{\"text\": \"Accept his help and set sail with him.\", \"nextNode\": {\"content\": \"The fisherman guides you through the treacherous waters. You encounter a giant kraken that attacks your ship. You and the fisherman fight it off with a harpoon and a sword. Eventually, you reach the city and find the artifact. \", \"isEnding\": true, \"isWinningEnding\": true}}, {\"text\": \"Refuse his help and go alone.\", \"nextNode\": {\"content\": \"You set out on your own, ignoring the fisherman\\'s warnings. You encounter the currents and get lost, running out of supplies and eventually succumbing to the elements.\", \"isEnding\": true, \"isWinningEnding\": false}}]}}, {\"text\": \"Study the map more carefully and look for any hidden clues.\", \"nextNode\": {\"content\": \"You examine the map more closely, discovering a hidden inscription. It reveals a secret passage that bypasses the main entrance. Do you...\", \"isEnding\": false, \"isWinningEnding\": false, \"options\": [{\"text\": \"Use the secret passage.\", \"nextNode\": {\"content\": \"You find the passage and use it to enter the city. You bypass the traps and reach the artifact. You have won!\", \"isEnding\": true, \"isWinningEnding\": true}}, {\"text\": \"Ignore the passage and try the main entrance.\", \"nextNode\": {\"content\": \"You ignore the secret passage and try the main entrance, triggering a complex series of traps. You get trapped and are unable to get out.\", \"isEnding\": true, \"isWinningEnding\": false}}]}]}}\\n```', additional_kwargs={}, response_metadata={'prompt_feedback': {'block_reason': 0, 'safety_ratings': []}, 'finish_reason': 'STOP', 'model_name': 'gemini-2.0-flash-lite', 'safety_ratings': []}, id='run--492ea418-f569-4bb0-96d1-69e26f61e57d-0', usage_metadata={'input_tokens': 710, 'output_tokens': 745, 'total_tokens': 1455, 'input_token_details': {'cache_read': 0}})"
      ]
     },
     "execution_count": 52,
     "metadata": {},
     "output_type": "execute_result"
    }
   ],
   "source": [
    "raw_response"
   ]
  },
  {
   "cell_type": "code",
   "execution_count": 57,
   "id": "ee842cde",
   "metadata": {},
   "outputs": [],
   "source": [
    "\n",
    "def post_process_response(raw_output: str) -> StoryLLMResponse:\n",
    "  import json\n",
    "  import re\n",
    "\n",
    "  if raw_output.startswith(\"```json\"):\n",
    "      raw_output = raw_output[len(\"```json\"):]\n",
    "\n",
    "  raw_output = raw_output.strip()  # bỏ \\n đầu/cuối\n",
    "  if raw_output.endswith(\"```\"):\n",
    "      raw_output = raw_output[:-3].strip()\n",
    "\n",
    "  # Clean the JSON string\n",
    "  cleaned_json = raw_output.replace(\"\\\\'\", \"'\")  # Remove escape characters before single quotes\n",
    "  cleaned_json = re.sub(r'[^\\x20-\\x7E]', '', cleaned_json)  # Remove non-printable characters\n",
    "\n",
    "  #Parse\n",
    "  data = json.loads(cleaned_json)\n",
    "  pretty_json = json.dumps(data, indent=4)\n",
    "  return pretty_json"
   ]
  },
  {
   "cell_type": "code",
   "execution_count": 64,
   "id": "a71c7348",
   "metadata": {},
   "outputs": [
    {
     "data": {
      "text/plain": [
       "AIMessage(content='```json\\n{\"title\": \"The Sunken City\\'s Secret\", \"rootNode\": {\"content\": \"You are a renowned adventurer, known for your bravery and cunning. You\\'ve received a cryptic map leading to the Sunken City of Eldoria, rumored to hold a powerful artifact. You stand at the shore, ready to begin your quest. The salty air stings your face, and the waves crash gently against the sand. What do you do?\", \"isEnding\": false, \"isWinningEnding\": false, \"options\": [{\"text\": \"Follow the map and dive into the ocean to find the city.\", \"nextNode\": {\"content\": \"You descend into the depths, the sunlight fading as you go. The map leads you to a hidden entrance. Inside, you find a chamber guarded by ancient automatons. They begin to attack. Do you...\", \"isEnding\": false, \"isWinningEnding\": false, \"options\": [{\"text\": \"Fight the automatons.\", \"nextNode\": {\"content\": \"You engage in a fierce battle, your sword clashing against their metal bodies. After a grueling fight, you manage to disable them. You proceed deeper, finding the artifact - a glowing orb. You have won!\", \"isEnding\": true, \"isWinningEnding\": true}}, {\"text\": \"Try to sneak past the automatons.\", \"nextNode\": {\"content\": \"You attempt to bypass the automatons, using the shadows and your agility. You succeed in getting past them, but trigger a trap. Poison gas fills the chamber, and you succumb to its effects.\", \"isEnding\": true, \"isWinningEnding\": false}}]}}, {\"text\": \"Seek out a local fisherman for advice.\", \"nextNode\": {\"content\": \"You approach an old fisherman, known for his knowledge of the sea. He warns you of treacherous currents and mythical creatures guarding the city. He offers to guide you. Do you...\", \"isEnding\": false, \"isWinningEnding\": false, \"options\": [{\"text\": \"Accept his help and set sail with him.\", \"nextNode\": {\"content\": \"The fisherman guides you through the treacherous waters. You encounter a giant kraken that attacks your ship. You and the fisherman fight it off with a harpoon and a sword. Eventually, you reach the city and find the artifact. \", \"isEnding\": true, \"isWinningEnding\": true}}, {\"text\": \"Refuse his help and go alone.\", \"nextNode\": {\"content\": \"You set out on your own, ignoring the fisherman\\'s warnings. You encounter the currents and get lost, running out of supplies and eventually succumbing to the elements.\", \"isEnding\": true, \"isWinningEnding\": false}}]}}, {\"text\": \"Study the map more carefully and look for any hidden clues.\", \"nextNode\": {\"content\": \"You examine the map more closely, discovering a hidden inscription. It reveals a secret passage that bypasses the main entrance. Do you...\", \"isEnding\": false, \"isWinningEnding\": false, \"options\": [{\"text\": \"Use the secret passage.\", \"nextNode\": {\"content\": \"You find the passage and use it to enter the city. You bypass the traps and reach the artifact. You have won!\", \"isEnding\": true, \"isWinningEnding\": true}}, {\"text\": \"Ignore the passage and try the main entrance.\", \"nextNode\": {\"content\": \"You ignore the secret passage and try the main entrance, triggering a complex series of traps. You get trapped and are unable to get out.\", \"isEnding\": true, \"isWinningEnding\": false}}]}]}}\\n```', additional_kwargs={}, response_metadata={'prompt_feedback': {'block_reason': 0, 'safety_ratings': []}, 'finish_reason': 'STOP', 'model_name': 'gemini-2.0-flash-lite', 'safety_ratings': []}, id='run--492ea418-f569-4bb0-96d1-69e26f61e57d-0', usage_metadata={'input_tokens': 710, 'output_tokens': 745, 'total_tokens': 1455, 'input_token_details': {'cache_read': 0}})"
      ]
     },
     "execution_count": 64,
     "metadata": {},
     "output_type": "execute_result"
    }
   ],
   "source": [
    "raw_response"
   ]
  },
  {
   "cell_type": "code",
   "execution_count": 65,
   "id": "ffd0a587",
   "metadata": {},
   "outputs": [
    {
     "data": {
      "text/plain": [
       "langchain_core.messages.ai.AIMessage"
      ]
     },
     "execution_count": 65,
     "metadata": {},
     "output_type": "execute_result"
    }
   ],
   "source": [
    "type(raw_response)"
   ]
  },
  {
   "cell_type": "code",
   "execution_count": null,
   "id": "5eeb7250",
   "metadata": {},
   "outputs": [],
   "source": [
    "ans = post_process_response(raw_response.content)\n",
    "ans"
   ]
  },
  {
   "cell_type": "code",
   "execution_count": 72,
   "id": "01d13da7",
   "metadata": {},
   "outputs": [
    {
     "data": {
      "text/plain": [
       "']}]}}'"
      ]
     },
     "execution_count": 72,
     "metadata": {},
     "output_type": "execute_result"
    }
   ],
   "source": [
    "# 1. Loại bỏ code block\n",
    "raw_output = raw_response.content\n",
    "\n",
    "if raw_output.startswith(\"```json\"):\n",
    "    raw_output = raw_output[len(\"```json\"):]\n",
    "\n",
    "raw_output = raw_output.strip()  # bỏ \\n đầu/cuối\n",
    "if raw_output.endswith(\"```\"):\n",
    "    raw_output = raw_output[:-3].strip()\n",
    "\n",
    "raw_output[3135:3140]"
   ]
  },
  {
   "cell_type": "code",
   "execution_count": null,
   "id": "c761e262",
   "metadata": {},
   "outputs": [
    {
     "ename": "JSONDecodeError",
     "evalue": "Expecting ',' delimiter: line 1 column 3138 (char 3137)",
     "output_type": "error",
     "traceback": [
      "\u001b[31m---------------------------------------------------------------------------\u001b[39m",
      "\u001b[31mJSONDecodeError\u001b[39m                           Traceback (most recent call last)",
      "\u001b[36mCell\u001b[39m\u001b[36m \u001b[39m\u001b[32mIn[71]\u001b[39m\u001b[32m, line 22\u001b[39m\n\u001b[32m     19\u001b[39m cleaned_json = json_str.replace(\u001b[33m\"\u001b[39m\u001b[38;5;130;01m\\\\\u001b[39;00m\u001b[33m'\u001b[39m\u001b[33m\"\u001b[39m, \u001b[33m\"\u001b[39m\u001b[33m'\u001b[39m\u001b[33m\"\u001b[39m)  \u001b[38;5;66;03m# Remove escape characters before single quotes\u001b[39;00m\n\u001b[32m     20\u001b[39m cleaned_json = re.sub(\u001b[33mr\u001b[39m\u001b[33m'\u001b[39m\u001b[33m[^\u001b[39m\u001b[33m\\\u001b[39m\u001b[33mx20-\u001b[39m\u001b[33m\\\u001b[39m\u001b[33mx7E]\u001b[39m\u001b[33m'\u001b[39m, \u001b[33m'\u001b[39m\u001b[33m'\u001b[39m, cleaned_json)  \u001b[38;5;66;03m# Remove non-printable characters\u001b[39;00m\n\u001b[32m---> \u001b[39m\u001b[32m22\u001b[39m data = \u001b[43mjson\u001b[49m\u001b[43m.\u001b[49m\u001b[43mloads\u001b[49m\u001b[43m(\u001b[49m\u001b[43mcleaned_json\u001b[49m\u001b[43m)\u001b[49m\n\u001b[32m     23\u001b[39m pretty_json = json.dumps(data, indent=\u001b[32m4\u001b[39m)\n\u001b[32m     24\u001b[39m \u001b[38;5;28mprint\u001b[39m(pretty_json)\n",
      "\u001b[36mFile \u001b[39m\u001b[32m~\\AppData\\Local\\Programs\\Python\\Python312\\Lib\\json\\__init__.py:346\u001b[39m, in \u001b[36mloads\u001b[39m\u001b[34m(s, cls, object_hook, parse_float, parse_int, parse_constant, object_pairs_hook, **kw)\u001b[39m\n\u001b[32m    341\u001b[39m     s = s.decode(detect_encoding(s), \u001b[33m'\u001b[39m\u001b[33msurrogatepass\u001b[39m\u001b[33m'\u001b[39m)\n\u001b[32m    343\u001b[39m \u001b[38;5;28;01mif\u001b[39;00m (\u001b[38;5;28mcls\u001b[39m \u001b[38;5;129;01mis\u001b[39;00m \u001b[38;5;28;01mNone\u001b[39;00m \u001b[38;5;129;01mand\u001b[39;00m object_hook \u001b[38;5;129;01mis\u001b[39;00m \u001b[38;5;28;01mNone\u001b[39;00m \u001b[38;5;129;01mand\u001b[39;00m\n\u001b[32m    344\u001b[39m         parse_int \u001b[38;5;129;01mis\u001b[39;00m \u001b[38;5;28;01mNone\u001b[39;00m \u001b[38;5;129;01mand\u001b[39;00m parse_float \u001b[38;5;129;01mis\u001b[39;00m \u001b[38;5;28;01mNone\u001b[39;00m \u001b[38;5;129;01mand\u001b[39;00m\n\u001b[32m    345\u001b[39m         parse_constant \u001b[38;5;129;01mis\u001b[39;00m \u001b[38;5;28;01mNone\u001b[39;00m \u001b[38;5;129;01mand\u001b[39;00m object_pairs_hook \u001b[38;5;129;01mis\u001b[39;00m \u001b[38;5;28;01mNone\u001b[39;00m \u001b[38;5;129;01mand\u001b[39;00m \u001b[38;5;129;01mnot\u001b[39;00m kw):\n\u001b[32m--> \u001b[39m\u001b[32m346\u001b[39m     \u001b[38;5;28;01mreturn\u001b[39;00m \u001b[43m_default_decoder\u001b[49m\u001b[43m.\u001b[49m\u001b[43mdecode\u001b[49m\u001b[43m(\u001b[49m\u001b[43ms\u001b[49m\u001b[43m)\u001b[49m\n\u001b[32m    347\u001b[39m \u001b[38;5;28;01mif\u001b[39;00m \u001b[38;5;28mcls\u001b[39m \u001b[38;5;129;01mis\u001b[39;00m \u001b[38;5;28;01mNone\u001b[39;00m:\n\u001b[32m    348\u001b[39m     \u001b[38;5;28mcls\u001b[39m = JSONDecoder\n",
      "\u001b[36mFile \u001b[39m\u001b[32m~\\AppData\\Local\\Programs\\Python\\Python312\\Lib\\json\\decoder.py:337\u001b[39m, in \u001b[36mJSONDecoder.decode\u001b[39m\u001b[34m(self, s, _w)\u001b[39m\n\u001b[32m    332\u001b[39m \u001b[38;5;28;01mdef\u001b[39;00m\u001b[38;5;250m \u001b[39m\u001b[34mdecode\u001b[39m(\u001b[38;5;28mself\u001b[39m, s, _w=WHITESPACE.match):\n\u001b[32m    333\u001b[39m \u001b[38;5;250m    \u001b[39m\u001b[33;03m\"\"\"Return the Python representation of ``s`` (a ``str`` instance\u001b[39;00m\n\u001b[32m    334\u001b[39m \u001b[33;03m    containing a JSON document).\u001b[39;00m\n\u001b[32m    335\u001b[39m \n\u001b[32m    336\u001b[39m \u001b[33;03m    \"\"\"\u001b[39;00m\n\u001b[32m--> \u001b[39m\u001b[32m337\u001b[39m     obj, end = \u001b[38;5;28;43mself\u001b[39;49m\u001b[43m.\u001b[49m\u001b[43mraw_decode\u001b[49m\u001b[43m(\u001b[49m\u001b[43ms\u001b[49m\u001b[43m,\u001b[49m\u001b[43m \u001b[49m\u001b[43midx\u001b[49m\u001b[43m=\u001b[49m\u001b[43m_w\u001b[49m\u001b[43m(\u001b[49m\u001b[43ms\u001b[49m\u001b[43m,\u001b[49m\u001b[43m \u001b[49m\u001b[32;43m0\u001b[39;49m\u001b[43m)\u001b[49m\u001b[43m.\u001b[49m\u001b[43mend\u001b[49m\u001b[43m(\u001b[49m\u001b[43m)\u001b[49m\u001b[43m)\u001b[49m\n\u001b[32m    338\u001b[39m     end = _w(s, end).end()\n\u001b[32m    339\u001b[39m     \u001b[38;5;28;01mif\u001b[39;00m end != \u001b[38;5;28mlen\u001b[39m(s):\n",
      "\u001b[36mFile \u001b[39m\u001b[32m~\\AppData\\Local\\Programs\\Python\\Python312\\Lib\\json\\decoder.py:353\u001b[39m, in \u001b[36mJSONDecoder.raw_decode\u001b[39m\u001b[34m(self, s, idx)\u001b[39m\n\u001b[32m    344\u001b[39m \u001b[38;5;250m\u001b[39m\u001b[33;03m\"\"\"Decode a JSON document from ``s`` (a ``str`` beginning with\u001b[39;00m\n\u001b[32m    345\u001b[39m \u001b[33;03ma JSON document) and return a 2-tuple of the Python\u001b[39;00m\n\u001b[32m    346\u001b[39m \u001b[33;03mrepresentation and the index in ``s`` where the document ended.\u001b[39;00m\n\u001b[32m   (...)\u001b[39m\u001b[32m    350\u001b[39m \n\u001b[32m    351\u001b[39m \u001b[33;03m\"\"\"\u001b[39;00m\n\u001b[32m    352\u001b[39m \u001b[38;5;28;01mtry\u001b[39;00m:\n\u001b[32m--> \u001b[39m\u001b[32m353\u001b[39m     obj, end = \u001b[38;5;28;43mself\u001b[39;49m\u001b[43m.\u001b[49m\u001b[43mscan_once\u001b[49m\u001b[43m(\u001b[49m\u001b[43ms\u001b[49m\u001b[43m,\u001b[49m\u001b[43m \u001b[49m\u001b[43midx\u001b[49m\u001b[43m)\u001b[49m\n\u001b[32m    354\u001b[39m \u001b[38;5;28;01mexcept\u001b[39;00m \u001b[38;5;167;01mStopIteration\u001b[39;00m \u001b[38;5;28;01mas\u001b[39;00m err:\n\u001b[32m    355\u001b[39m     \u001b[38;5;28;01mraise\u001b[39;00m JSONDecodeError(\u001b[33m\"\u001b[39m\u001b[33mExpecting value\u001b[39m\u001b[33m\"\u001b[39m, s, err.value) \u001b[38;5;28;01mfrom\u001b[39;00m\u001b[38;5;250m \u001b[39m\u001b[38;5;28;01mNone\u001b[39;00m\n",
      "\u001b[31mJSONDecodeError\u001b[39m: Expecting ',' delimiter: line 1 column 3138 (char 3137)"
     ]
    }
   ],
   "source": [
    "\n",
    "\n",
    "\n",
    "import json\n",
    "import re\n",
    "\n",
    "# The JSON string\n",
    "#json_str = '{\"title\": \"The Sunken City\\'s Secret\", \"rootNode\": {\"content\": \"You are a seasoned adventurer, renowned for your courage and cunning. You\\'ve received a cryptic map hinting at the location of the Sunken City of Eldoria, a place rumored to hold unimaginable treasures and forgotten magic. You stand at the edge of the Whispering Sea, ready to begin your quest. What do you do?\", \"isEnding\": false, \"isWinningEnding\": false, \"options\": [{\"text\": \"Set sail immediately, trusting your instincts and the map.\", \"nextNode\": {\"content\": \"The journey across the Whispering Sea is fraught with peril. Violent storms, monstrous sea creatures, and treacherous currents test your resolve. After weeks at sea, you finally reach the coordinates marked on the map. You find a submerged city. What do you do?\", \"isEnding\": false, \"isWinningEnding\": false, \"options\": [{\"text\": \"Dive into the city, exploring the ruins in search of treasure.\", \"nextNode\": {\"content\": \"You descend into the depths, navigating the eerie, waterlogged streets of Eldoria. You discover a hidden chamber guarded by a colossal, ancient kraken. The kraken attacks! Do you fight or flee?\", \"isEnding\": false, \"isWinningEnding\": false, \"options\": [{\"text\": \"Fight the kraken, using your skills and weapons.\", \"nextNode\": {\"content\": \"You engage in a fierce battle with the kraken. After a grueling struggle, you manage to defeat the beast. Exhausted but victorious, you enter the chamber. Inside, you find the Heart of Eldoria, a powerful artifact that grants you immense power. You have won!\", \"isEnding\": true, \"isWinningEnding\": true}}, {\"text\": \"Flee the kraken, attempting to escape the city.\", \"nextNode\": {\"content\": \"You attempt to flee, but the kraken is too fast. It crushes your ship with its tentacles. You drown in the depths.\", \"isEnding\": true, \"isWinningEnding\": false}}]}}, {\"text\": \"Attempt to bypass the city, searching for another entrance.\", \"nextNode\": {\"content\": \"You search for another entrance to the city but are ambushed by a rival group of adventurers, also seeking the treasure. They are well-equipped and outnumber you. You\\'re captured.\", \"isEnding\": true, \"isWinningEnding\": false}}]}}, {\"text\": \"Gather more information, consulting with local scholars and sailors before setting out.\", \"nextNode\": {\"content\": \"You spend weeks gathering information, learning about the dangers of the sea and the rumored guardians of Eldoria. You discover that a specific type of amulet can ward off the kraken. Armed with this knowledge, you set sail. You arrive at the Sunken City, and find the location of the amulet. Do you enter the city?\", \"isEnding\": false, \"isWinningEnding\": false, \"options\": [{\"text\": \"Enter the city, with the amulet.\", \"nextNode\": {\"content\": \"You descend into the depths, the amulet protecting you from the kraken\\'s attacks. You navigate the ruins, finding the Heart of Eldoria and claiming it without a fight. You have won!\", \"isEnding\": true, \"isWinningEnding\": true}}, {\"text\": \"Attempt to find the main entrance without the amulet.\", \"nextNode\": {\"content\": \"You attempt to enter the city without the amulet, and are immediately attacked by the kraken. You are defeated.\", \"isEnding\": true, \"isWinningEnding\": false}}]}}, {\"text\": \"Hire a skilled crew and a sturdy ship, preparing for a long voyage.\", \"nextNode\": {\"content\": \"You assemble a skilled crew and a durable ship, preparing for the long journey. During the voyage, your ship is attacked by pirates. Do you fight or attempt to negotiate?\", \"isEnding\": false, \"isWinningEnding\": false, \"options\": [{\"text\": \"Fight the pirates.\", \"nextNode\": {\"content\": \"A fierce battle ensues. Your crew is skilled, but the pirates are ruthless. After a long fight, the pirates overwhelm you and your crew. You are captured, and your ship is plundered.\", \"isEnding\": true, \"isWinningEnding\": false}}, {\"text\": \"Attempt to negotiate with the pirates.\", \"nextNode\": {\"content\": \"You attempt to negotiate, offering a share of your treasure in exchange for safe passage. The pirates agree, but betray you once you reach the Sunken City. They leave you stranded, and take the treasure for themselves.\", \"isEnding\": true, \"isWinningEnding\": false}}]}}]}}'\n",
    "json_str = raw_output\n",
    "# Clean the JSON string\n",
    "cleaned_json = json_str.replace(\"\\\\'\", \"'\")  # Remove escape characters before single quotes\n",
    "cleaned_json = re.sub(r'[^\\x20-\\x7E]', '', cleaned_json)  # Remove non-printable characters\n",
    "\n",
    "data = json.loads(cleaned_json)\n",
    "pretty_json = json.dumps(data, indent=4)\n",
    "print(pretty_json)"
   ]
  },
  {
   "cell_type": "code",
   "execution_count": 23,
   "id": "980cc230",
   "metadata": {},
   "outputs": [],
   "source": [
    "raw_response = pretty_json\n",
    "response_text = raw_response"
   ]
  },
  {
   "cell_type": "code",
   "execution_count": 24,
   "id": "98cac065",
   "metadata": {},
   "outputs": [],
   "source": [
    "if hasattr(raw_response, \"content\"):\n",
    "    response_text = raw_response.content\n",
    "\n",
    "story_structure = story_parser.parse(response_text)"
   ]
  },
  {
   "cell_type": "code",
   "execution_count": 26,
   "id": "4fef6802",
   "metadata": {},
   "outputs": [
    {
     "data": {
      "text/plain": [
       "StoryNodeLLM(content=\"You are a seasoned adventurer, renowned for your courage and cunning. You've received a cryptic map hinting at the location of the Sunken City of Eldoria, a place rumored to hold unimaginable treasures and forgotten magic. You stand at the edge of the Whispering Sea, ready to begin your quest. What do you do?\", isEnding=False, isWinningEnding=False, options=[StoryOptionLLM(text='Set sail immediately, trusting your instincts and the map.', nextNode={'content': 'The journey across the Whispering Sea is fraught with peril. Violent storms, monstrous sea creatures, and treacherous currents test your resolve. After weeks at sea, you finally reach the coordinates marked on the map. You find a submerged city. What do you do?', 'isEnding': False, 'isWinningEnding': False, 'options': [{'text': 'Dive into the city, exploring the ruins in search of treasure.', 'nextNode': {'content': 'You descend into the depths, navigating the eerie, waterlogged streets of Eldoria. You discover a hidden chamber guarded by a colossal, ancient kraken. The kraken attacks! Do you fight or flee?', 'isEnding': False, 'isWinningEnding': False, 'options': [{'text': 'Fight the kraken, using your skills and weapons.', 'nextNode': {'content': 'You engage in a fierce battle with the kraken. After a grueling struggle, you manage to defeat the beast. Exhausted but victorious, you enter the chamber. Inside, you find the Heart of Eldoria, a powerful artifact that grants you immense power. You have won!', 'isEnding': True, 'isWinningEnding': True}}, {'text': 'Flee the kraken, attempting to escape the city.', 'nextNode': {'content': 'You attempt to flee, but the kraken is too fast. It crushes your ship with its tentacles. You drown in the depths.', 'isEnding': True, 'isWinningEnding': False}}]}}, {'text': 'Attempt to bypass the city, searching for another entrance.', 'nextNode': {'content': \"You search for another entrance to the city but are ambushed by a rival group of adventurers, also seeking the treasure. They are well-equipped and outnumber you. You're captured.\", 'isEnding': True, 'isWinningEnding': False}}]}), StoryOptionLLM(text='Gather more information, consulting with local scholars and sailors before setting out.', nextNode={'content': 'You spend weeks gathering information, learning about the dangers of the sea and the rumored guardians of Eldoria. You discover that a specific type of amulet can ward off the kraken. Armed with this knowledge, you set sail. You arrive at the Sunken City, and find the location of the amulet. Do you enter the city?', 'isEnding': False, 'isWinningEnding': False, 'options': [{'text': 'Enter the city, with the amulet.', 'nextNode': {'content': \"You descend into the depths, the amulet protecting you from the kraken's attacks. You navigate the ruins, finding the Heart of Eldoria and claiming it without a fight. You have won!\", 'isEnding': True, 'isWinningEnding': True}}, {'text': 'Attempt to find the main entrance without the amulet.', 'nextNode': {'content': 'You attempt to enter the city without the amulet, and are immediately attacked by the kraken. You are defeated.', 'isEnding': True, 'isWinningEnding': False}}]}), StoryOptionLLM(text='Hire a skilled crew and a sturdy ship, preparing for a long voyage.', nextNode={'content': 'You assemble a skilled crew and a durable ship, preparing for the long journey. During the voyage, your ship is attacked by pirates. Do you fight or attempt to negotiate?', 'isEnding': False, 'isWinningEnding': False, 'options': [{'text': 'Fight the pirates.', 'nextNode': {'content': 'A fierce battle ensues. Your crew is skilled, but the pirates are ruthless. After a long fight, the pirates overwhelm you and your crew. You are captured, and your ship is plundered.', 'isEnding': True, 'isWinningEnding': False}}, {'text': 'Attempt to negotiate with the pirates.', 'nextNode': {'content': 'You attempt to negotiate, offering a share of your treasure in exchange for safe passage. The pirates agree, but betray you once you reach the Sunken City. They leave you stranded, and take the treasure for themselves.', 'isEnding': True, 'isWinningEnding': False}}]})])"
      ]
     },
     "execution_count": 26,
     "metadata": {},
     "output_type": "execute_result"
    }
   ],
   "source": [
    "story_structure.rootNode"
   ]
  },
  {
   "cell_type": "code",
   "execution_count": 39,
   "id": "914a06c2",
   "metadata": {},
   "outputs": [],
   "source": [
    "from db.database import get_db, SessionLocal\n",
    "db = SessionLocal()\n",
    "\n",
    "from db.database import create_tables\n",
    "\n",
    "create_tables()"
   ]
  },
  {
   "cell_type": "code",
   "execution_count": 40,
   "id": "819adc28",
   "metadata": {},
   "outputs": [],
   "source": [
    "story_db = Story(title=story_structure.title, session_id=\"abcd\")\n",
    "db.add(story_db)\n",
    "db.flush()"
   ]
  },
  {
   "cell_type": "code",
   "execution_count": 41,
   "id": "be43fd32",
   "metadata": {},
   "outputs": [],
   "source": [
    "root_node_data = story_structure.rootNode\n",
    "if isinstance(root_node_data, dict):\n",
    "    root_node_data = StoryNodeLLM.model_validate(root_node_data)"
   ]
  },
  {
   "cell_type": "code",
   "execution_count": 42,
   "id": "aeebef67",
   "metadata": {},
   "outputs": [
    {
     "data": {
      "text/plain": [
       "StoryNodeLLM(content=\"You are a seasoned adventurer, renowned for your courage and cunning. You've received a cryptic map hinting at the location of the Sunken City of Eldoria, a place rumored to hold unimaginable treasures and forgotten magic. You stand at the edge of the Whispering Sea, ready to begin your quest. What do you do?\", isEnding=False, isWinningEnding=False, options=[StoryOptionLLM(text='Set sail immediately, trusting your instincts and the map.', nextNode={'content': 'The journey across the Whispering Sea is fraught with peril. Violent storms, monstrous sea creatures, and treacherous currents test your resolve. After weeks at sea, you finally reach the coordinates marked on the map. You find a submerged city. What do you do?', 'isEnding': False, 'isWinningEnding': False, 'options': [{'text': 'Dive into the city, exploring the ruins in search of treasure.', 'nextNode': {'content': 'You descend into the depths, navigating the eerie, waterlogged streets of Eldoria. You discover a hidden chamber guarded by a colossal, ancient kraken. The kraken attacks! Do you fight or flee?', 'isEnding': False, 'isWinningEnding': False, 'options': [{'text': 'Fight the kraken, using your skills and weapons.', 'nextNode': {'content': 'You engage in a fierce battle with the kraken. After a grueling struggle, you manage to defeat the beast. Exhausted but victorious, you enter the chamber. Inside, you find the Heart of Eldoria, a powerful artifact that grants you immense power. You have won!', 'isEnding': True, 'isWinningEnding': True}}, {'text': 'Flee the kraken, attempting to escape the city.', 'nextNode': {'content': 'You attempt to flee, but the kraken is too fast. It crushes your ship with its tentacles. You drown in the depths.', 'isEnding': True, 'isWinningEnding': False}}]}}, {'text': 'Attempt to bypass the city, searching for another entrance.', 'nextNode': {'content': \"You search for another entrance to the city but are ambushed by a rival group of adventurers, also seeking the treasure. They are well-equipped and outnumber you. You're captured.\", 'isEnding': True, 'isWinningEnding': False}}]}), StoryOptionLLM(text='Gather more information, consulting with local scholars and sailors before setting out.', nextNode={'content': 'You spend weeks gathering information, learning about the dangers of the sea and the rumored guardians of Eldoria. You discover that a specific type of amulet can ward off the kraken. Armed with this knowledge, you set sail. You arrive at the Sunken City, and find the location of the amulet. Do you enter the city?', 'isEnding': False, 'isWinningEnding': False, 'options': [{'text': 'Enter the city, with the amulet.', 'nextNode': {'content': \"You descend into the depths, the amulet protecting you from the kraken's attacks. You navigate the ruins, finding the Heart of Eldoria and claiming it without a fight. You have won!\", 'isEnding': True, 'isWinningEnding': True}}, {'text': 'Attempt to find the main entrance without the amulet.', 'nextNode': {'content': 'You attempt to enter the city without the amulet, and are immediately attacked by the kraken. You are defeated.', 'isEnding': True, 'isWinningEnding': False}}]}), StoryOptionLLM(text='Hire a skilled crew and a sturdy ship, preparing for a long voyage.', nextNode={'content': 'You assemble a skilled crew and a durable ship, preparing for the long journey. During the voyage, your ship is attacked by pirates. Do you fight or attempt to negotiate?', 'isEnding': False, 'isWinningEnding': False, 'options': [{'text': 'Fight the pirates.', 'nextNode': {'content': 'A fierce battle ensues. Your crew is skilled, but the pirates are ruthless. After a long fight, the pirates overwhelm you and your crew. You are captured, and your ship is plundered.', 'isEnding': True, 'isWinningEnding': False}}, {'text': 'Attempt to negotiate with the pirates.', 'nextNode': {'content': 'You attempt to negotiate, offering a share of your treasure in exchange for safe passage. The pirates agree, but betray you once you reach the Sunken City. They leave you stranded, and take the treasure for themselves.', 'isEnding': True, 'isWinningEnding': False}}]})])"
      ]
     },
     "execution_count": 42,
     "metadata": {},
     "output_type": "execute_result"
    }
   ],
   "source": [
    "root_node_data"
   ]
  },
  {
   "cell_type": "code",
   "execution_count": 43,
   "id": "40e52f03",
   "metadata": {},
   "outputs": [
    {
     "data": {
      "text/plain": [
       "False"
      ]
     },
     "execution_count": 43,
     "metadata": {},
     "output_type": "execute_result"
    }
   ],
   "source": [
    "root_node_data.isWinningEnding"
   ]
  },
  {
   "cell_type": "code",
   "execution_count": 44,
   "id": "03a3758a",
   "metadata": {},
   "outputs": [
    {
     "name": "stdout",
     "output_type": "stream",
     "text": [
      "['id', 'story_id', 'content', 'is_root', 'is_ending', 'is_winning_ending', 'options']\n"
     ]
    }
   ],
   "source": [
    "print(StoryNode.__table__.columns.keys())\n"
   ]
  },
  {
   "cell_type": "code",
   "execution_count": 45,
   "id": "c904bfff",
   "metadata": {},
   "outputs": [],
   "source": [
    "def process_story_node(db: Session, story_id: int, node_data: StoryNodeLLM, is_root: bool = False) -> StoryNode:\n",
    "      node = StoryNode(\n",
    "          story_id=story_id,\n",
    "          content=node_data.content if hasattr(node_data, \"content\") else node_data[\"content\"],\n",
    "          is_root=is_root,\n",
    "          is_ending=node_data.isEnding if hasattr(node_data, \"isEnding\") else node_data[\"isEnding\"],\n",
    "          is_winning_ending=node_data.isWinningEnding if hasattr(node_data, \"isWinningEnding\") else node_data[\"isWinningEnding\"],\n",
    "          options=[]\n",
    "      )\n",
    "      db.add(node)\n",
    "      db.flush()\n",
    "\n",
    "      if not node.is_ending and (hasattr(node_data, \"options\") and node_data.options):\n",
    "          options_list = []\n",
    "          for option_data in node_data.options:\n",
    "              next_node = option_data.nextNode\n",
    "\n",
    "              if isinstance(next_node, dict):\n",
    "                  next_node = StoryNodeLLM.model_validate(next_node)\n",
    "\n",
    "              child_node = process_story_node(db, story_id, next_node, False)\n",
    "\n",
    "              options_list.append({\n",
    "                  \"text\": option_data.text,\n",
    "                  \"node_id\": child_node.id\n",
    "              })\n",
    "\n",
    "          node.options = options_list\n",
    "\n",
    "      db.flush()\n",
    "      return node"
   ]
  },
  {
   "cell_type": "code",
   "execution_count": 46,
   "id": "e842324b",
   "metadata": {},
   "outputs": [
    {
     "data": {
      "text/plain": [
       "<models.story.Story at 0x1e5c38d32c0>"
      ]
     },
     "execution_count": 46,
     "metadata": {},
     "output_type": "execute_result"
    }
   ],
   "source": [
    "process_story_node(db, story_db.id, root_node_data, is_root=True)\n",
    "db.commit()\n",
    "story_db"
   ]
  },
  {
   "cell_type": "code",
   "execution_count": null,
   "id": "0d893bc1",
   "metadata": {},
   "outputs": [],
   "source": [
    "class StoryGenerator:\n",
    "\n",
    "  @classmethod\n",
    "  def _get_llm(cls):\n",
    "    return ChatGoogleGenerativeAI(model=\"gemini-2.0-flash-lite\", api_key=settings.GEMINI_API_KEY)\n",
    "  \n",
    "  @classmethod\n",
    "  def generate_story(cls, db: Session, session_id: str, theme: str = \"fantasy\")-> Story:\n",
    "      llm = cls._get_llm()\n",
    "      story_parser = PydanticOutputParser(pydantic_object=StoryLLMResponse)\n",
    "\n",
    "      prompt = ChatPromptTemplate.from_messages([\n",
    "          (\n",
    "              \"system\",\n",
    "              STORY_PROMPT\n",
    "          ),\n",
    "          (\n",
    "              \"human\",\n",
    "              f\"Create the story with this theme: {theme}\"\n",
    "          )\n",
    "      ]).partial(format_instructions=story_parser.get_format_instructions())\n",
    "\n",
    "      raw_response = llm.invoke(prompt.invoke({}))\n",
    "\n",
    "      response_text = raw_response\n",
    "      if hasattr(raw_response, \"content\"):\n",
    "          response_text = raw_response.content\n",
    "\n",
    "      story_structure = story_parser.parse(response_text)\n",
    "\n",
    "      story_db = Story(title=story_structure.title, session_id=session_id)\n",
    "      db.add(story_db)\n",
    "      db.flush()\n",
    "\n",
    "      root_node_data = story_structure.rootNode\n",
    "      if isinstance(root_node_data, dict):\n",
    "          root_node_data = StoryNodeLLM.model_validate(root_node_data)\n",
    "\n",
    "      cls._process_story_node(db, story_db.id, root_node_data, is_root=True)\n",
    "\n",
    "      db.commit()\n",
    "      return story_db\n",
    "\n",
    "  @classmethod\n",
    "  def _process_story_node(cls, db: Session, story_id: int, node_data: StoryNodeLLM, is_root: bool = False) -> StoryNode:\n",
    "      node = StoryNode(\n",
    "          story_id=story_id,\n",
    "          content=node_data.content if hasattr(node_data, \"content\") else node_data[\"content\"],\n",
    "          is_root=is_root,\n",
    "          is_ending=node_data.isEnding if hasattr(node_data, \"isEnding\") else node_data[\"isEnding\"],\n",
    "          is_winning_ending=node_data.isWinningEnding if hasattr(node_data, \"isWinningEnding\") else node_data[\"isWinningEnding\"],\n",
    "          options=[]\n",
    "      )\n",
    "      db.add(node)\n",
    "      db.flush()\n",
    "\n",
    "      if not node.is_ending and (hasattr(node_data, \"options\") and node_data.options):\n",
    "          options_list = []\n",
    "          for option_data in node_data.options:\n",
    "              next_node = option_data.nextNode\n",
    "\n",
    "              if isinstance(next_node, dict):\n",
    "                  next_node = StoryNodeLLM.model_validate(next_node)\n",
    "\n",
    "              child_node = cls._process_story_node(db, story_id, next_node, False)\n",
    "\n",
    "              options_list.append({\n",
    "                  \"text\": option_data.text,\n",
    "                  \"node_id\": child_node.id\n",
    "              })\n",
    "\n",
    "          node.options = options_list\n",
    "\n",
    "      db.flush()\n",
    "      return node\n"
   ]
  }
 ],
 "metadata": {
  "kernelspec": {
   "display_name": "story_generator_venv",
   "language": "python",
   "name": "python3"
  },
  "language_info": {
   "codemirror_mode": {
    "name": "ipython",
    "version": 3
   },
   "file_extension": ".py",
   "mimetype": "text/x-python",
   "name": "python",
   "nbconvert_exporter": "python",
   "pygments_lexer": "ipython3",
   "version": "3.12.0"
  }
 },
 "nbformat": 4,
 "nbformat_minor": 5
}
