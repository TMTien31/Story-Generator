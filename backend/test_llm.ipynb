{
 "cells": [
  {
   "cell_type": "code",
   "execution_count": 28,
   "id": "1a710ab0",
   "metadata": {},
   "outputs": [],
   "source": [
    "from sqlalchemy.orm import Session\n",
    "from core.config import settings\n",
    "\n",
    "from langchain_google_genai import ChatGoogleGenerativeAI\n",
    "from langchain_core.prompts import ChatPromptTemplate\n",
    "from langchain_core.output_parsers import PydanticOutputParser\n",
    "\n",
    "from core.prompts import STORY_PROMPT\n",
    "from models.story import Story, StoryNode\n",
    "from core.models import StoryLLMResponse, StoryNodeLLM\n"
   ]
  },
  {
   "cell_type": "code",
   "execution_count": 29,
   "id": "1364fac9",
   "metadata": {},
   "outputs": [],
   "source": [
    "# Tạo LLM\n",
    "llm = ChatGoogleGenerativeAI(\n",
    "    model=\"gemini-2.5-flash\",\n",
    "    api_key=settings.GEMINI_API_KEY\n",
    ")\n",
    "\n",
    "# Pydantic parser cho schema StoryLLMResponse\n",
    "story_parser = PydanticOutputParser(pydantic_object=StoryLLMResponse)\n"
   ]
  },
  {
   "cell_type": "code",
   "execution_count": 30,
   "id": "2c7f9fea",
   "metadata": {},
   "outputs": [],
   "source": [
    "prompt = ChatPromptTemplate.from_messages([\n",
    "    (\n",
    "        \"system\",\n",
    "        STORY_PROMPT\n",
    "    ),\n",
    "    (\n",
    "        \"human\",\n",
    "        \"Create the story with this theme: {theme}\"\n",
    "    )\n",
    "]).partial(format_instructions=story_parser.get_format_instructions())"
   ]
  },
  {
   "cell_type": "code",
   "execution_count": 31,
   "id": "ad9088f8",
   "metadata": {},
   "outputs": [
    {
     "data": {
      "text/plain": [
       "'System: \\n                You are a creative story writer that creates engaging choose-your-own-adventure stories.\\n                Generate a complete branching story with multiple paths and endings in the JSON format I\\'ll specify.\\n\\n                The story should have:\\n                1. A compelling title\\n                2. A starting situation (root node) with 2-3 options\\n                3. Each option should lead to another node with its own options\\n                4. Some paths should lead to endings (both winning and losing)\\n                5. At least one path should lead to a winning ending\\n\\n                Story structure requirements:\\n                - Each node should have 2 options except for ending nodes\\n                - The story should be 3 levels deep (including root node)\\n                - Add variety in the path lengths (some end earlier, some later)\\n                - Make sure there\\'s at least one winning path\\n\\n                Output your story in this exact JSON structure\\n                Do not print anything else outside the main JSON structure like ```json\\\\n in the begin or \\\\n``` in the end.\\n                The output should be formatted as a JSON instance that conforms to the JSON schema below.\\n\\nAs an example, for the schema {\"properties\": {\"foo\": {\"title\": \"Foo\", \"description\": \"a list of strings\", \"type\": \"array\", \"items\": {\"type\": \"string\"}}}, \"required\": [\"foo\"]}\\nthe object {\"foo\": [\"bar\", \"baz\"]} is a well-formatted instance of the schema. The object {\"properties\": {\"foo\": [\"bar\", \"baz\"]}} is not well-formatted.\\n\\nHere is the output schema:\\n```\\n{\"$defs\": {\"StoryNodeLLM\": {\"properties\": {\"content\": {\"description\": \"The content of the story node\", \"title\": \"Content\", \"type\": \"string\"}, \"isEnding\": {\"description\": \"Whether this node is an ending\", \"title\": \"Isending\", \"type\": \"boolean\"}, \"isWinningEnding\": {\"description\": \"Whether this ending is a winning ending\", \"title\": \"Iswinningending\", \"type\": \"boolean\"}, \"options\": {\"anyOf\": [{\"items\": {\"$ref\": \"#/$defs/StoryOptionLLM\"}, \"type\": \"array\"}, {\"type\": \"null\"}], \"default\": null, \"description\": \"The options available at this node\", \"title\": \"Options\"}}, \"required\": [\"content\", \"isEnding\", \"isWinningEnding\"], \"title\": \"StoryNodeLLM\", \"type\": \"object\"}, \"StoryOptionLLM\": {\"properties\": {\"text\": {\"description\": \"The text of the option presented to the user\", \"title\": \"Text\", \"type\": \"string\"}, \"nextNode\": {\"additionalProperties\": true, \"description\": \"The next node in the story\", \"title\": \"Nextnode\", \"type\": \"object\"}}, \"required\": [\"text\", \"nextNode\"], \"title\": \"StoryOptionLLM\", \"type\": \"object\"}}, \"properties\": {\"title\": {\"description\": \"The title of the story\", \"title\": \"Title\", \"type\": \"string\"}, \"rootNode\": {\"$ref\": \"#/$defs/StoryNodeLLM\", \"description\": \"The root node of the story\"}}, \"required\": [\"title\", \"rootNode\"]}\\n```\\n\\n                Don\\'t simplify or omit any part of the story structure. \\n                Don\\'t add any text outside of the JSON structure.\\n                \\nHuman: Create the story with this theme: Hero aventures'"
      ]
     },
     "execution_count": 31,
     "metadata": {},
     "output_type": "execute_result"
    }
   ],
   "source": [
    "prompt.format(theme=\"Hero aventures\")"
   ]
  },
  {
   "cell_type": "code",
   "execution_count": 32,
   "id": "12d0abfa",
   "metadata": {},
   "outputs": [
    {
     "data": {
      "text/plain": [
       "AIMessage(content='```json\\n{\\n  \"title\": \"The Quest for the Sunstone\",\\n  \"rootNode\": {\\n    \"content\": \"You are Elara, a renowned adventurer. A dark blight spreads, threatening the kingdom. The elders believe the legendary Sunstone, hidden in the Whispering Peaks, can stop it. Do you accept the perilous quest?\",\\n    \"isEnding\": false,\\n    \"isWinningEnding\": false,\\n    \"options\": [\\n      {\\n        \"text\": \"Accept the quest immediately, preparing for the mountains.\",\\n        \"nextNode\": {\\n          \"content\": \"You brave the treacherous ascent. A sudden blizzard engulfs you. You see a small, icy cave to your left and a steep, but clearer, ridge to your right.\",\\n          \"isEnding\": false,\\n          \"isWinningEnding\": false,\\n          \"options\": [\\n            {\\n              \"text\": \"Seek shelter in the icy cave.\",\\n              \"nextNode\": {\\n                \"content\": \"Inside the cave, you find warmth but also a sleeping Frost Troll guarding a small treasure. It stirs. Do you try to sneak past or confront it?\",\\n                \"isEnding\": false,\\n                \"isWinningEnding\": false,\\n                \"options\": [\\n                  {\\n                    \"text\": \"Attempt to sneak past the sleeping troll.\",\\n                    \"nextNode\": {\\n                      \"content\": \"You silently creep past the troll. It snores loudly, but a loose pebble rolls, waking it! It roars and crushes you. Your quest ends here, a tragic failure.\",\\n                      \"isEnding\": true,\\n                      \"isWinningEnding\": false,\\n                      \"options\": null\\n                    }\\n                  },\\n                  {\\n                    \"text\": \"Prepare for battle against the Frost Troll.\",\\n                    \"nextNode\": {\\n                      \"content\": \"You valiantly fight the Frost Troll, using your skills to exploit its weaknesses. After a brutal battle, you defeat it, securing the cave for rest and finding a small, useful relic. You continue your quest, stronger and wiser.\",\\n                      \"isEnding\": true,\\n                      \"isWinningEnding\": true,\\n                      \"options\": null\\n                    }\\n                  }\\n                ]\\n              }\\n            },\\n            {\\n              \"text\": \"Risk the ridge, hoping for a quicker passage.\",\\n              \"nextNode\": {\\n                \"content\": \"The ridge is indeed quicker, but a sudden rockslide blocks your path. You can try to scale the unstable rockfall or search for an alternative, longer route around.\",\\n                \"isEnding\": false,\\n                \"isWinningEnding\": false,\\n                \"options\": [\\n                  {\\n                    \"text\": \"Attempt to scale the unstable rockfall.\",\\n                    \"nextNode\": {\\n                      \"content\": \"You attempt to climb the unstable rockfall. Halfway up, it shifts violently, sending you plummeting into a crevasse below. Your quest ends here.\",\\n                      \"isEnding\": true,\\n                      \"isWinningEnding\": false,\\n                      \"options\": null\\n                    }\\n                  },\\n                  {\\n                    \"text\": \"Search for a longer, safer route around.\",\\n                    \"nextNode\": {\\n                      \"content\": \"Though longer, the alternative route is safer. You navigate around the rockslide, finding a hidden path that leads directly to the next stage of your mountain journey. You\\'ve conserved your strength and avoided peril.\",\\n                      \"isEnding\": true,\\n                      \"isWinningEnding\": true,\\n                      \"options\": null\\n                    }\\n                  }\\n                ]\\n              }\\n            }\\n          ]\\n        }\\n      },\\n      {\\n        \"text\": \"First, gather more information and supplies in the nearby town.\",\\n        \"nextNode\": {\\n          \"content\": \"In the bustling town of Oakhaven, you learn of two potential leads: an ancient map sold by a shifty merchant, or rumors of a wise hermit who lives by the Silverwood Forest and might know the Sunstone\\'s true location.\",\\n          \"isEnding\": false,\\n          \"isWinningEnding\": false,\\n          \"options\": [\\n            {\\n              \"text\": \"Approach the shifty merchant for the map.\",\\n              \"nextNode\": {\\n                \"content\": \"The merchant sells you a map, but it looks suspiciously new. He demands an exorbitant price. Do you pay, hoping it\\'s real, or accuse him of fraud?\",\\n                \"isEnding\": false,\\n                \"isWinningEnding\": false,\\n                \"options\": [\\n                  {\\n                    \"text\": \"Pay the merchant, hoping the map is legitimate.\",\\n                    \"nextNode\": {\\n                      \"content\": \"You pay the merchant. The map leads you on a wild goose chase for weeks, wasting precious time and resources. The blight continues to spread, unchecked. Your kingdom falls into deeper despair.\",\\n                      \"isEnding\": true,\\n                      \"isWinningEnding\": false,\\n                      \"options\": null\\n                    }\\n                  },\\n                  {\\n                    \"text\": \"Accuse him of fraud and demand your money back.\",\\n                    \"nextNode\": {\\n                      \"content\": \"You confront the merchant. He panics, revealing the map is indeed fake. Enraged, you retrieve your money and leave, but now have no map and must find another way. You\\'ve avoided a trap but lost valuable time.\",\\n                      \"isEnding\": true,\\n                      \"isWinningEnding\": false,\\n                      \"options\": null\\n                    }\\n                  }\\n                ]\\n              }\\n            },\\n            {\\n              \"text\": \"Seek out the wise hermit in the Silverwood.\",\\n              \"nextNode\": {\\n                \"content\": \"The hermit is a kind, old woman. She confirms the Sunstone\\'s location and gives you a protective amulet, but warns of a final trial of courage to claim it.\",\\n                \"isEnding\": false,\\n                \"isWinningEnding\": false,\\n                \"options\": [\\n                  {\\n                    \"text\": \"Thank her and immediately set off for the Sunstone\\'s location, feeling empowered.\",\\n                    \"nextNode\": {\\n                      \"content\": \"Empowered by the amulet and the hermit\\'s wisdom, you confidently journey to the Sunstone\\'s location. The amulet protects you from its final magical defenses, allowing you to claim the Sunstone and return to save the kingdom. You are hailed as a true hero! The blight recedes.\",\\n                      \"isEnding\": true,\\n                      \"isWinningEnding\": true,\\n                      \"options\": null\\n                    }\\n                  },\\n                  {\\n                    \"text\": \"Ask for more details about the \\'trial of courage\\' before departing.\",\\n                    \"nextNode\": {\\n                      \"content\": \"As you press for more details, the hermit\\'s eyes glaze over. She mumbles about \\'the price of knowledge\\' and suddenly vanishes, leaving you alone and confused. The amulet is gone too. You\\'ve lost your best lead and the protection. The quest seems impossible now.\",\\n                      \"isEnding\": true,\\n                      \"isWinningEnding\": false,\\n                      \"options\": null\\n                    }\\n                  }\\n                ]\\n              }\\n            }\\n          ]\\n        }\\n      }\\n    ]\\n  }\\n}\\n```', additional_kwargs={}, response_metadata={'prompt_feedback': {'block_reason': 0, 'safety_ratings': []}, 'finish_reason': 'STOP', 'model_name': 'gemini-2.5-flash', 'safety_ratings': []}, id='run--e84b3fc8-d3e0-4fd4-84ff-83fa0034fbd3-0', usage_metadata={'input_tokens': 741, 'output_tokens': 5297, 'total_tokens': 6038, 'input_token_details': {'cache_read': 0}, 'output_token_details': {'reasoning': 3745}})"
      ]
     },
     "execution_count": 32,
     "metadata": {},
     "output_type": "execute_result"
    }
   ],
   "source": [
    "raw_response = llm.invoke(prompt.invoke({\"theme\": \"Hero aventures\"}))\n",
    "raw_response"
   ]
  },
  {
   "cell_type": "code",
   "execution_count": 33,
   "id": "ee842cde",
   "metadata": {},
   "outputs": [],
   "source": [
    "\n",
    "def post_process_response(raw_output: str) -> StoryLLMResponse:\n",
    "  import json\n",
    "  import re\n",
    "\n",
    "  if raw_output.startswith(\"```json\"):\n",
    "      raw_output = raw_output[len(\"```json\"):]\n",
    "\n",
    "  raw_output = raw_output.strip()  # bỏ \\n đầu/cuối\n",
    "  if raw_output.endswith(\"```\"):\n",
    "      raw_output = raw_output[:-3].strip()\n",
    "\n",
    "  # Clean the JSON string\n",
    "  cleaned_json = raw_output.replace(\"\\\\'\", \"'\")  # Remove escape characters before single quotes\n",
    "  cleaned_json = re.sub(r'[^\\x20-\\x7E]', '', cleaned_json)  # Remove non-printable characters\n",
    "\n",
    "  #Parse\n",
    "  data = json.loads(cleaned_json)\n",
    "  pretty_json = json.dumps(data, indent=4)\n",
    "  return pretty_json"
   ]
  },
  {
   "cell_type": "code",
   "execution_count": 34,
   "id": "5eeb7250",
   "metadata": {},
   "outputs": [
    {
     "name": "stdout",
     "output_type": "stream",
     "text": [
      "{\n",
      "    \"title\": \"The Quest for the Sunstone\",\n",
      "    \"rootNode\": {\n",
      "        \"content\": \"You are Elara, a renowned adventurer. A dark blight spreads, threatening the kingdom. The elders believe the legendary Sunstone, hidden in the Whispering Peaks, can stop it. Do you accept the perilous quest?\",\n",
      "        \"isEnding\": false,\n",
      "        \"isWinningEnding\": false,\n",
      "        \"options\": [\n",
      "            {\n",
      "                \"text\": \"Accept the quest immediately, preparing for the mountains.\",\n",
      "                \"nextNode\": {\n",
      "                    \"content\": \"You brave the treacherous ascent. A sudden blizzard engulfs you. You see a small, icy cave to your left and a steep, but clearer, ridge to your right.\",\n",
      "                    \"isEnding\": false,\n",
      "                    \"isWinningEnding\": false,\n",
      "                    \"options\": [\n",
      "                        {\n",
      "                            \"text\": \"Seek shelter in the icy cave.\",\n",
      "                            \"nextNode\": {\n",
      "                                \"content\": \"Inside the cave, you find warmth but also a sleeping Frost Troll guarding a small treasure. It stirs. Do you try to sneak past or confront it?\",\n",
      "                                \"isEnding\": false,\n",
      "                                \"isWinningEnding\": false,\n",
      "                                \"options\": [\n",
      "                                    {\n",
      "                                        \"text\": \"Attempt to sneak past the sleeping troll.\",\n",
      "                                        \"nextNode\": {\n",
      "                                            \"content\": \"You silently creep past the troll. It snores loudly, but a loose pebble rolls, waking it! It roars and crushes you. Your quest ends here, a tragic failure.\",\n",
      "                                            \"isEnding\": true,\n",
      "                                            \"isWinningEnding\": false,\n",
      "                                            \"options\": null\n",
      "                                        }\n",
      "                                    },\n",
      "                                    {\n",
      "                                        \"text\": \"Prepare for battle against the Frost Troll.\",\n",
      "                                        \"nextNode\": {\n",
      "                                            \"content\": \"You valiantly fight the Frost Troll, using your skills to exploit its weaknesses. After a brutal battle, you defeat it, securing the cave for rest and finding a small, useful relic. You continue your quest, stronger and wiser.\",\n",
      "                                            \"isEnding\": true,\n",
      "                                            \"isWinningEnding\": true,\n",
      "                                            \"options\": null\n",
      "                                        }\n",
      "                                    }\n",
      "                                ]\n",
      "                            }\n",
      "                        },\n",
      "                        {\n",
      "                            \"text\": \"Risk the ridge, hoping for a quicker passage.\",\n",
      "                            \"nextNode\": {\n",
      "                                \"content\": \"The ridge is indeed quicker, but a sudden rockslide blocks your path. You can try to scale the unstable rockfall or search for an alternative, longer route around.\",\n",
      "                                \"isEnding\": false,\n",
      "                                \"isWinningEnding\": false,\n",
      "                                \"options\": [\n",
      "                                    {\n",
      "                                        \"text\": \"Attempt to scale the unstable rockfall.\",\n",
      "                                        \"nextNode\": {\n",
      "                                            \"content\": \"You attempt to climb the unstable rockfall. Halfway up, it shifts violently, sending you plummeting into a crevasse below. Your quest ends here.\",\n",
      "                                            \"isEnding\": true,\n",
      "                                            \"isWinningEnding\": false,\n",
      "                                            \"options\": null\n",
      "                                        }\n",
      "                                    },\n",
      "                                    {\n",
      "                                        \"text\": \"Search for a longer, safer route around.\",\n",
      "                                        \"nextNode\": {\n",
      "                                            \"content\": \"Though longer, the alternative route is safer. You navigate around the rockslide, finding a hidden path that leads directly to the next stage of your mountain journey. You've conserved your strength and avoided peril.\",\n",
      "                                            \"isEnding\": true,\n",
      "                                            \"isWinningEnding\": true,\n",
      "                                            \"options\": null\n",
      "                                        }\n",
      "                                    }\n",
      "                                ]\n",
      "                            }\n",
      "                        }\n",
      "                    ]\n",
      "                }\n",
      "            },\n",
      "            {\n",
      "                \"text\": \"First, gather more information and supplies in the nearby town.\",\n",
      "                \"nextNode\": {\n",
      "                    \"content\": \"In the bustling town of Oakhaven, you learn of two potential leads: an ancient map sold by a shifty merchant, or rumors of a wise hermit who lives by the Silverwood Forest and might know the Sunstone's true location.\",\n",
      "                    \"isEnding\": false,\n",
      "                    \"isWinningEnding\": false,\n",
      "                    \"options\": [\n",
      "                        {\n",
      "                            \"text\": \"Approach the shifty merchant for the map.\",\n",
      "                            \"nextNode\": {\n",
      "                                \"content\": \"The merchant sells you a map, but it looks suspiciously new. He demands an exorbitant price. Do you pay, hoping it's real, or accuse him of fraud?\",\n",
      "                                \"isEnding\": false,\n",
      "                                \"isWinningEnding\": false,\n",
      "                                \"options\": [\n",
      "                                    {\n",
      "                                        \"text\": \"Pay the merchant, hoping the map is legitimate.\",\n",
      "                                        \"nextNode\": {\n",
      "                                            \"content\": \"You pay the merchant. The map leads you on a wild goose chase for weeks, wasting precious time and resources. The blight continues to spread, unchecked. Your kingdom falls into deeper despair.\",\n",
      "                                            \"isEnding\": true,\n",
      "                                            \"isWinningEnding\": false,\n",
      "                                            \"options\": null\n",
      "                                        }\n",
      "                                    },\n",
      "                                    {\n",
      "                                        \"text\": \"Accuse him of fraud and demand your money back.\",\n",
      "                                        \"nextNode\": {\n",
      "                                            \"content\": \"You confront the merchant. He panics, revealing the map is indeed fake. Enraged, you retrieve your money and leave, but now have no map and must find another way. You've avoided a trap but lost valuable time.\",\n",
      "                                            \"isEnding\": true,\n",
      "                                            \"isWinningEnding\": false,\n",
      "                                            \"options\": null\n",
      "                                        }\n",
      "                                    }\n",
      "                                ]\n",
      "                            }\n",
      "                        },\n",
      "                        {\n",
      "                            \"text\": \"Seek out the wise hermit in the Silverwood.\",\n",
      "                            \"nextNode\": {\n",
      "                                \"content\": \"The hermit is a kind, old woman. She confirms the Sunstone's location and gives you a protective amulet, but warns of a final trial of courage to claim it.\",\n",
      "                                \"isEnding\": false,\n",
      "                                \"isWinningEnding\": false,\n",
      "                                \"options\": [\n",
      "                                    {\n",
      "                                        \"text\": \"Thank her and immediately set off for the Sunstone's location, feeling empowered.\",\n",
      "                                        \"nextNode\": {\n",
      "                                            \"content\": \"Empowered by the amulet and the hermit's wisdom, you confidently journey to the Sunstone's location. The amulet protects you from its final magical defenses, allowing you to claim the Sunstone and return to save the kingdom. You are hailed as a true hero! The blight recedes.\",\n",
      "                                            \"isEnding\": true,\n",
      "                                            \"isWinningEnding\": true,\n",
      "                                            \"options\": null\n",
      "                                        }\n",
      "                                    },\n",
      "                                    {\n",
      "                                        \"text\": \"Ask for more details about the 'trial of courage' before departing.\",\n",
      "                                        \"nextNode\": {\n",
      "                                            \"content\": \"As you press for more details, the hermit's eyes glaze over. She mumbles about 'the price of knowledge' and suddenly vanishes, leaving you alone and confused. The amulet is gone too. You've lost your best lead and the protection. The quest seems impossible now.\",\n",
      "                                            \"isEnding\": true,\n",
      "                                            \"isWinningEnding\": false,\n",
      "                                            \"options\": null\n",
      "                                        }\n",
      "                                    }\n",
      "                                ]\n",
      "                            }\n",
      "                        }\n",
      "                    ]\n",
      "                }\n",
      "            }\n",
      "        ]\n",
      "    }\n",
      "}\n"
     ]
    }
   ],
   "source": [
    "ans = post_process_response(raw_response.content)\n",
    "print(ans)"
   ]
  },
  {
   "cell_type": "code",
   "execution_count": 14,
   "id": "980cc230",
   "metadata": {},
   "outputs": [],
   "source": [
    "response_text = ans"
   ]
  },
  {
   "cell_type": "code",
   "execution_count": 15,
   "id": "98cac065",
   "metadata": {},
   "outputs": [],
   "source": [
    "if hasattr(raw_response, \"content\"):\n",
    "    response_text = raw_response.content\n",
    "\n",
    "story_structure = story_parser.parse(response_text)"
   ]
  },
  {
   "cell_type": "code",
   "execution_count": 16,
   "id": "4fef6802",
   "metadata": {},
   "outputs": [
    {
     "data": {
      "text/plain": [
       "StoryNodeLLM(content='You are a brave adventurer, renowned throughout the land for your courage. You stand at the entrance of a dark cave, rumored to be the lair of a fearsome dragon. Before you lie two paths: a narrow, winding passage and a wider, more direct route. What do you do?', isEnding=False, isWinningEnding=False, options=[StoryOptionLLM(text='Venture down the narrow passage.', nextNode={'content': 'The narrow passage twists and turns, and you hear the sound of dripping water. After a while, you come to a fork in the path. One path leads deeper into the darkness, the other leads to a faint glimmer of light.', 'isEnding': False, 'isWinningEnding': False, 'options': [{'text': 'Follow the path into the deeper darkness.', 'nextNode': {'content': 'You stumble along in the dark, and suddenly, the ground gives way! You plummet into a deep pit, your adventure ending abruptly.', 'isEnding': True, 'isWinningEnding': False, 'options': None}}, {'text': 'Follow the glimmer of light.', 'nextNode': {'content': \"The light leads you to a hidden chamber, where you find a small, but valuable, treasure chest. You've found a small victory, but the dragon remains.\", 'isEnding': True, 'isWinningEnding': False, 'options': None}}]}), StoryOptionLLM(text='Take the wider, more direct route.', nextNode={'content': 'The direct route leads you quickly into a large cavern. The air is thick with the smell of sulfur, and in the center of the cavern, you see it: the dragon, asleep upon a hoard of gold! Do you attempt a stealthy approach or charge in?', 'isEnding': False, 'isWinningEnding': False, 'options': [{'text': 'Attempt a stealthy approach.', 'nextNode': {'content': 'You try to sneak past the sleeping dragon, but you accidentally step on a loose stone! The dragon awakens, enraged. You are quickly defeated.', 'isEnding': True, 'isWinningEnding': False, 'options': None}}, {'text': 'Charge in, sword drawn!', 'nextNode': {'content': \"You roar and charge at the dragon, your sword gleaming. The dragon is surprised by your boldness. After a fierce battle, you strike the final blow, slaying the beast! You are victorious and claim the dragon's hoard as your own.\", 'isEnding': True, 'isWinningEnding': True, 'options': None}}]})])"
      ]
     },
     "execution_count": 16,
     "metadata": {},
     "output_type": "execute_result"
    }
   ],
   "source": [
    "story_structure.rootNode"
   ]
  },
  {
   "cell_type": "code",
   "execution_count": 39,
   "id": "914a06c2",
   "metadata": {},
   "outputs": [],
   "source": [
    "from db.database import get_db, SessionLocal\n",
    "db = SessionLocal()\n",
    "\n",
    "from db.database import create_tables\n",
    "\n",
    "create_tables()"
   ]
  },
  {
   "cell_type": "code",
   "execution_count": 40,
   "id": "819adc28",
   "metadata": {},
   "outputs": [],
   "source": [
    "story_db = Story(title=story_structure.title, session_id=\"abcd\")\n",
    "db.add(story_db)\n",
    "db.flush()"
   ]
  },
  {
   "cell_type": "code",
   "execution_count": 41,
   "id": "be43fd32",
   "metadata": {},
   "outputs": [],
   "source": [
    "root_node_data = story_structure.rootNode\n",
    "if isinstance(root_node_data, dict):\n",
    "    root_node_data = StoryNodeLLM.model_validate(root_node_data)"
   ]
  },
  {
   "cell_type": "code",
   "execution_count": 42,
   "id": "aeebef67",
   "metadata": {},
   "outputs": [
    {
     "data": {
      "text/plain": [
       "StoryNodeLLM(content=\"You are a seasoned adventurer, renowned for your courage and cunning. You've received a cryptic map hinting at the location of the Sunken City of Eldoria, a place rumored to hold unimaginable treasures and forgotten magic. You stand at the edge of the Whispering Sea, ready to begin your quest. What do you do?\", isEnding=False, isWinningEnding=False, options=[StoryOptionLLM(text='Set sail immediately, trusting your instincts and the map.', nextNode={'content': 'The journey across the Whispering Sea is fraught with peril. Violent storms, monstrous sea creatures, and treacherous currents test your resolve. After weeks at sea, you finally reach the coordinates marked on the map. You find a submerged city. What do you do?', 'isEnding': False, 'isWinningEnding': False, 'options': [{'text': 'Dive into the city, exploring the ruins in search of treasure.', 'nextNode': {'content': 'You descend into the depths, navigating the eerie, waterlogged streets of Eldoria. You discover a hidden chamber guarded by a colossal, ancient kraken. The kraken attacks! Do you fight or flee?', 'isEnding': False, 'isWinningEnding': False, 'options': [{'text': 'Fight the kraken, using your skills and weapons.', 'nextNode': {'content': 'You engage in a fierce battle with the kraken. After a grueling struggle, you manage to defeat the beast. Exhausted but victorious, you enter the chamber. Inside, you find the Heart of Eldoria, a powerful artifact that grants you immense power. You have won!', 'isEnding': True, 'isWinningEnding': True}}, {'text': 'Flee the kraken, attempting to escape the city.', 'nextNode': {'content': 'You attempt to flee, but the kraken is too fast. It crushes your ship with its tentacles. You drown in the depths.', 'isEnding': True, 'isWinningEnding': False}}]}}, {'text': 'Attempt to bypass the city, searching for another entrance.', 'nextNode': {'content': \"You search for another entrance to the city but are ambushed by a rival group of adventurers, also seeking the treasure. They are well-equipped and outnumber you. You're captured.\", 'isEnding': True, 'isWinningEnding': False}}]}), StoryOptionLLM(text='Gather more information, consulting with local scholars and sailors before setting out.', nextNode={'content': 'You spend weeks gathering information, learning about the dangers of the sea and the rumored guardians of Eldoria. You discover that a specific type of amulet can ward off the kraken. Armed with this knowledge, you set sail. You arrive at the Sunken City, and find the location of the amulet. Do you enter the city?', 'isEnding': False, 'isWinningEnding': False, 'options': [{'text': 'Enter the city, with the amulet.', 'nextNode': {'content': \"You descend into the depths, the amulet protecting you from the kraken's attacks. You navigate the ruins, finding the Heart of Eldoria and claiming it without a fight. You have won!\", 'isEnding': True, 'isWinningEnding': True}}, {'text': 'Attempt to find the main entrance without the amulet.', 'nextNode': {'content': 'You attempt to enter the city without the amulet, and are immediately attacked by the kraken. You are defeated.', 'isEnding': True, 'isWinningEnding': False}}]}), StoryOptionLLM(text='Hire a skilled crew and a sturdy ship, preparing for a long voyage.', nextNode={'content': 'You assemble a skilled crew and a durable ship, preparing for the long journey. During the voyage, your ship is attacked by pirates. Do you fight or attempt to negotiate?', 'isEnding': False, 'isWinningEnding': False, 'options': [{'text': 'Fight the pirates.', 'nextNode': {'content': 'A fierce battle ensues. Your crew is skilled, but the pirates are ruthless. After a long fight, the pirates overwhelm you and your crew. You are captured, and your ship is plundered.', 'isEnding': True, 'isWinningEnding': False}}, {'text': 'Attempt to negotiate with the pirates.', 'nextNode': {'content': 'You attempt to negotiate, offering a share of your treasure in exchange for safe passage. The pirates agree, but betray you once you reach the Sunken City. They leave you stranded, and take the treasure for themselves.', 'isEnding': True, 'isWinningEnding': False}}]})])"
      ]
     },
     "execution_count": 42,
     "metadata": {},
     "output_type": "execute_result"
    }
   ],
   "source": [
    "root_node_data"
   ]
  },
  {
   "cell_type": "code",
   "execution_count": 43,
   "id": "40e52f03",
   "metadata": {},
   "outputs": [
    {
     "data": {
      "text/plain": [
       "False"
      ]
     },
     "execution_count": 43,
     "metadata": {},
     "output_type": "execute_result"
    }
   ],
   "source": [
    "root_node_data.isWinningEnding"
   ]
  },
  {
   "cell_type": "code",
   "execution_count": 44,
   "id": "03a3758a",
   "metadata": {},
   "outputs": [
    {
     "name": "stdout",
     "output_type": "stream",
     "text": [
      "['id', 'story_id', 'content', 'is_root', 'is_ending', 'is_winning_ending', 'options']\n"
     ]
    }
   ],
   "source": [
    "print(StoryNode.__table__.columns.keys())\n"
   ]
  },
  {
   "cell_type": "code",
   "execution_count": 45,
   "id": "c904bfff",
   "metadata": {},
   "outputs": [],
   "source": [
    "def process_story_node(db: Session, story_id: int, node_data: StoryNodeLLM, is_root: bool = False) -> StoryNode:\n",
    "      node = StoryNode(\n",
    "          story_id=story_id,\n",
    "          content=node_data.content if hasattr(node_data, \"content\") else node_data[\"content\"],\n",
    "          is_root=is_root,\n",
    "          is_ending=node_data.isEnding if hasattr(node_data, \"isEnding\") else node_data[\"isEnding\"],\n",
    "          is_winning_ending=node_data.isWinningEnding if hasattr(node_data, \"isWinningEnding\") else node_data[\"isWinningEnding\"],\n",
    "          options=[]\n",
    "      )\n",
    "      db.add(node)\n",
    "      db.flush()\n",
    "\n",
    "      if not node.is_ending and (hasattr(node_data, \"options\") and node_data.options):\n",
    "          options_list = []\n",
    "          for option_data in node_data.options:\n",
    "              next_node = option_data.nextNode\n",
    "\n",
    "              if isinstance(next_node, dict):\n",
    "                  next_node = StoryNodeLLM.model_validate(next_node)\n",
    "\n",
    "              child_node = process_story_node(db, story_id, next_node, False)\n",
    "\n",
    "              options_list.append({\n",
    "                  \"text\": option_data.text,\n",
    "                  \"node_id\": child_node.id\n",
    "              })\n",
    "\n",
    "          node.options = options_list\n",
    "\n",
    "      db.flush()\n",
    "      return node"
   ]
  },
  {
   "cell_type": "code",
   "execution_count": 46,
   "id": "e842324b",
   "metadata": {},
   "outputs": [
    {
     "data": {
      "text/plain": [
       "<models.story.Story at 0x1e5c38d32c0>"
      ]
     },
     "execution_count": 46,
     "metadata": {},
     "output_type": "execute_result"
    }
   ],
   "source": [
    "process_story_node(db, story_db.id, root_node_data, is_root=True)\n",
    "db.commit()\n",
    "story_db"
   ]
  },
  {
   "cell_type": "code",
   "execution_count": null,
   "id": "0d893bc1",
   "metadata": {},
   "outputs": [],
   "source": [
    "class StoryGenerator:\n",
    "\n",
    "  @classmethod\n",
    "  def _get_llm(cls):\n",
    "    return ChatGoogleGenerativeAI(model=\"gemini-2.0-flash-lite\", api_key=settings.GEMINI_API_KEY)\n",
    "  \n",
    "  @classmethod\n",
    "  def generate_story(cls, db: Session, session_id: str, theme: str = \"fantasy\")-> Story:\n",
    "      llm = cls._get_llm()\n",
    "      story_parser = PydanticOutputParser(pydantic_object=StoryLLMResponse)\n",
    "\n",
    "      prompt = ChatPromptTemplate.from_messages([\n",
    "          (\n",
    "              \"system\",\n",
    "              STORY_PROMPT\n",
    "          ),\n",
    "          (\n",
    "              \"human\",\n",
    "              f\"Create the story with this theme: {theme}\"\n",
    "          )\n",
    "      ]).partial(format_instructions=story_parser.get_format_instructions())\n",
    "\n",
    "      raw_response = llm.invoke(prompt.invoke({}))\n",
    "\n",
    "      response_text = raw_response\n",
    "      if hasattr(raw_response, \"content\"):\n",
    "          response_text = raw_response.content\n",
    "\n",
    "      story_structure = story_parser.parse(response_text)\n",
    "\n",
    "      story_db = Story(title=story_structure.title, session_id=session_id)\n",
    "      db.add(story_db)\n",
    "      db.flush()\n",
    "\n",
    "      root_node_data = story_structure.rootNode\n",
    "      if isinstance(root_node_data, dict):\n",
    "          root_node_data = StoryNodeLLM.model_validate(root_node_data)\n",
    "\n",
    "      cls._process_story_node(db, story_db.id, root_node_data, is_root=True)\n",
    "\n",
    "      db.commit()\n",
    "      return story_db\n",
    "\n",
    "  @classmethod\n",
    "  def _process_story_node(cls, db: Session, story_id: int, node_data: StoryNodeLLM, is_root: bool = False) -> StoryNode:\n",
    "      node = StoryNode(\n",
    "          story_id=story_id,\n",
    "          content=node_data.content if hasattr(node_data, \"content\") else node_data[\"content\"],\n",
    "          is_root=is_root,\n",
    "          is_ending=node_data.isEnding if hasattr(node_data, \"isEnding\") else node_data[\"isEnding\"],\n",
    "          is_winning_ending=node_data.isWinningEnding if hasattr(node_data, \"isWinningEnding\") else node_data[\"isWinningEnding\"],\n",
    "          options=[]\n",
    "      )\n",
    "      db.add(node)\n",
    "      db.flush()\n",
    "\n",
    "      if not node.is_ending and (hasattr(node_data, \"options\") and node_data.options):\n",
    "          options_list = []\n",
    "          for option_data in node_data.options:\n",
    "              next_node = option_data.nextNode\n",
    "\n",
    "              if isinstance(next_node, dict):\n",
    "                  next_node = StoryNodeLLM.model_validate(next_node)\n",
    "\n",
    "              child_node = cls._process_story_node(db, story_id, next_node, False)\n",
    "\n",
    "              options_list.append({\n",
    "                  \"text\": option_data.text,\n",
    "                  \"node_id\": child_node.id\n",
    "              })\n",
    "\n",
    "          node.options = options_list\n",
    "\n",
    "      db.flush()\n",
    "      return node\n"
   ]
  }
 ],
 "metadata": {
  "kernelspec": {
   "display_name": "story_generator_venv",
   "language": "python",
   "name": "python3"
  },
  "language_info": {
   "codemirror_mode": {
    "name": "ipython",
    "version": 3
   },
   "file_extension": ".py",
   "mimetype": "text/x-python",
   "name": "python",
   "nbconvert_exporter": "python",
   "pygments_lexer": "ipython3",
   "version": "3.12.0"
  }
 },
 "nbformat": 4,
 "nbformat_minor": 5
}
